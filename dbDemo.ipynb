{
 "cells": [
  {
   "cell_type": "markdown",
   "id": "2d11c6bd",
   "metadata": {},
   "source": [
    "# HR Analytics Project\n",
    "\n",
    "This project analyzes the HR Analytics Employee Attrition dataset.  \n",
    "We use both **SQL** and **Python (Pandas)** to answer key business questions,  \n",
    "then visualize insights for the HR department.\n"
   ]
  },
  {
   "cell_type": "code",
   "execution_count": null,
   "id": "c9b5bae8",
   "metadata": {},
   "outputs": [],
   "source": [
    "import sqlite3\n",
    "import pandas as pd\n",
    "#import Libaries"
   ]
  },
  {
   "cell_type": "code",
   "execution_count": null,
   "id": "485e632d",
   "metadata": {},
   "outputs": [],
   "source": [
    "df = pd.read_csv('WA_Fn-UseC_-HR-Employee-Attrition.csv') # Read the file"
   ]
  },
  {
   "cell_type": "code",
   "execution_count": null,
   "id": "d786d5d7",
   "metadata": {},
   "outputs": [],
   "source": [
    "conn = sqlite3.connect(\"employees.db\")\n",
    "df.to_sql(\"employees\", conn, if_exists=\"replace\", index=False) #storing data "
   ]
  },
  {
   "cell_type": "markdown",
   "id": "6a0cc561",
   "metadata": {},
   "source": [
    "# SQL Queries questions"
   ]
  },
  {
   "cell_type": "markdown",
   "id": "093d13e1",
   "metadata": {},
   "source": [
    "##### Q1: How many total employees are there?"
   ]
  },
  {
   "cell_type": "code",
   "execution_count": null,
   "id": "a6664c18",
   "metadata": {},
   "outputs": [
    {
     "data": {
      "text/html": [
       "<div>\n",
       "<style scoped>\n",
       "    .dataframe tbody tr th:only-of-type {\n",
       "        vertical-align: middle;\n",
       "    }\n",
       "\n",
       "    .dataframe tbody tr th {\n",
       "        vertical-align: top;\n",
       "    }\n",
       "\n",
       "    .dataframe thead th {\n",
       "        text-align: right;\n",
       "    }\n",
       "</style>\n",
       "<table border=\"1\" class=\"dataframe\">\n",
       "  <thead>\n",
       "    <tr style=\"text-align: right;\">\n",
       "      <th></th>\n",
       "      <th>COUNT (*)</th>\n",
       "    </tr>\n",
       "  </thead>\n",
       "  <tbody>\n",
       "    <tr>\n",
       "      <th>0</th>\n",
       "      <td>2729</td>\n",
       "    </tr>\n",
       "  </tbody>\n",
       "</table>\n",
       "</div>"
      ],
      "text/plain": [
       "   COUNT (*)\n",
       "0       2729"
      ]
     },
     "metadata": {},
     "output_type": "display_data"
    }
   ],
   "source": [
    "q1 = pd.read_sql_query(\"SELECT COUNT (*) FROM employees ;\",conn)\n",
    "q1"
   ]
  },
  {
   "cell_type": "markdown",
   "id": "46a65eb7",
   "metadata": {},
   "source": [
    "##### Q2: What is the employee count for each department?"
   ]
  },
  {
   "cell_type": "code",
   "execution_count": null,
   "id": "24818300",
   "metadata": {},
   "outputs": [
    {
     "data": {
      "text/html": [
       "<div>\n",
       "<style scoped>\n",
       "    .dataframe tbody tr th:only-of-type {\n",
       "        vertical-align: middle;\n",
       "    }\n",
       "\n",
       "    .dataframe tbody tr th {\n",
       "        vertical-align: top;\n",
       "    }\n",
       "\n",
       "    .dataframe thead th {\n",
       "        text-align: right;\n",
       "    }\n",
       "</style>\n",
       "<table border=\"1\" class=\"dataframe\">\n",
       "  <thead>\n",
       "    <tr style=\"text-align: right;\">\n",
       "      <th></th>\n",
       "      <th>Department</th>\n",
       "      <th>COUNT(Department)</th>\n",
       "    </tr>\n",
       "  </thead>\n",
       "  <tbody>\n",
       "    <tr>\n",
       "      <th>0</th>\n",
       "      <td>Human Resources</td>\n",
       "      <td>1055</td>\n",
       "    </tr>\n",
       "    <tr>\n",
       "      <th>1</th>\n",
       "      <td>Research &amp; Development</td>\n",
       "      <td>961</td>\n",
       "    </tr>\n",
       "    <tr>\n",
       "      <th>2</th>\n",
       "      <td>Sales</td>\n",
       "      <td>446</td>\n",
       "    </tr>\n",
       "  </tbody>\n",
       "</table>\n",
       "</div>"
      ],
      "text/plain": [
       "               Department  COUNT(Department)\n",
       "0         Human Resources               1055\n",
       "1  Research & Development                961\n",
       "2                   Sales                446"
      ]
     },
     "metadata": {},
     "output_type": "display_data"
    }
   ],
   "source": [
    "q2 = pd.read_sql_query(\"SELECT Department, COUNT(Department) FROM employees GROUP BY Department;\",conn)\n",
    "q2"
   ]
  },
  {
   "cell_type": "markdown",
   "id": "51333a9c",
   "metadata": {},
   "source": [
    "##### Q3: What is the average monthly income by job role?"
   ]
  },
  {
   "cell_type": "code",
   "execution_count": null,
   "id": "3e51c691",
   "metadata": {},
   "outputs": [
    {
     "data": {
      "text/html": [
       "<div>\n",
       "<style scoped>\n",
       "    .dataframe tbody tr th:only-of-type {\n",
       "        vertical-align: middle;\n",
       "    }\n",
       "\n",
       "    .dataframe tbody tr th {\n",
       "        vertical-align: top;\n",
       "    }\n",
       "\n",
       "    .dataframe thead th {\n",
       "        text-align: right;\n",
       "    }\n",
       "</style>\n",
       "<table border=\"1\" class=\"dataframe\">\n",
       "  <thead>\n",
       "    <tr style=\"text-align: right;\">\n",
       "      <th></th>\n",
       "      <th>round(AVG(MonthlyIncome),2)</th>\n",
       "      <th>JobRole</th>\n",
       "    </tr>\n",
       "  </thead>\n",
       "  <tbody>\n",
       "    <tr>\n",
       "      <th>0</th>\n",
       "      <td>7528.76</td>\n",
       "      <td>Healthcare Representative</td>\n",
       "    </tr>\n",
       "    <tr>\n",
       "      <th>1</th>\n",
       "      <td>4235.75</td>\n",
       "      <td>Human Resources</td>\n",
       "    </tr>\n",
       "    <tr>\n",
       "      <th>2</th>\n",
       "      <td>3237.17</td>\n",
       "      <td>Laboratory Technician</td>\n",
       "    </tr>\n",
       "    <tr>\n",
       "      <th>3</th>\n",
       "      <td>17181.68</td>\n",
       "      <td>Manager</td>\n",
       "    </tr>\n",
       "    <tr>\n",
       "      <th>4</th>\n",
       "      <td>7295.14</td>\n",
       "      <td>Manufacturing Director</td>\n",
       "    </tr>\n",
       "    <tr>\n",
       "      <th>5</th>\n",
       "      <td>16033.55</td>\n",
       "      <td>Research Director</td>\n",
       "    </tr>\n",
       "    <tr>\n",
       "      <th>6</th>\n",
       "      <td>3239.97</td>\n",
       "      <td>Research Scientist</td>\n",
       "    </tr>\n",
       "    <tr>\n",
       "      <th>7</th>\n",
       "      <td>6924.28</td>\n",
       "      <td>Sales Executive</td>\n",
       "    </tr>\n",
       "    <tr>\n",
       "      <th>8</th>\n",
       "      <td>2626.00</td>\n",
       "      <td>Sales Representative</td>\n",
       "    </tr>\n",
       "  </tbody>\n",
       "</table>\n",
       "</div>"
      ],
      "text/plain": [
       "   round(AVG(MonthlyIncome),2)                    JobRole\n",
       "0                      7528.76  Healthcare Representative\n",
       "1                      4235.75            Human Resources\n",
       "2                      3237.17      Laboratory Technician\n",
       "3                     17181.68                    Manager\n",
       "4                      7295.14     Manufacturing Director\n",
       "5                     16033.55          Research Director\n",
       "6                      3239.97         Research Scientist\n",
       "7                      6924.28            Sales Executive\n",
       "8                      2626.00       Sales Representative"
      ]
     },
     "metadata": {},
     "output_type": "display_data"
    }
   ],
   "source": [
    "q3 = pd.read_sql_query(\"SELECT round(AVG(MonthlyIncome),2), jobrole FROM employees GROUP BY Jobrole ;\",conn)\n",
    "q3"
   ]
  },
  {
   "cell_type": "markdown",
   "id": "ca071686",
   "metadata": {},
   "source": [
    "##### Q4: Who are the top 5 employees by performance rating?\n"
   ]
  },
  {
   "cell_type": "code",
   "execution_count": null,
   "id": "47eb8c7d",
   "metadata": {},
   "outputs": [
    {
     "data": {
      "text/html": [
       "<div>\n",
       "<style scoped>\n",
       "    .dataframe tbody tr th:only-of-type {\n",
       "        vertical-align: middle;\n",
       "    }\n",
       "\n",
       "    .dataframe tbody tr th {\n",
       "        vertical-align: top;\n",
       "    }\n",
       "\n",
       "    .dataframe thead th {\n",
       "        text-align: right;\n",
       "    }\n",
       "</style>\n",
       "<table border=\"1\" class=\"dataframe\">\n",
       "  <thead>\n",
       "    <tr style=\"text-align: right;\">\n",
       "      <th></th>\n",
       "      <th>EmployeeNumber</th>\n",
       "      <th>JobRole</th>\n",
       "      <th>Department</th>\n",
       "      <th>MonthlyIncome</th>\n",
       "      <th>PerformanceRating</th>\n",
       "    </tr>\n",
       "  </thead>\n",
       "  <tbody>\n",
       "    <tr>\n",
       "      <th>0</th>\n",
       "      <td>2</td>\n",
       "      <td>Research Scientist</td>\n",
       "      <td>Research &amp; Development</td>\n",
       "      <td>5130</td>\n",
       "      <td>4</td>\n",
       "    </tr>\n",
       "    <tr>\n",
       "      <th>1</th>\n",
       "      <td>10</td>\n",
       "      <td>Laboratory Technician</td>\n",
       "      <td>Research &amp; Development</td>\n",
       "      <td>2670</td>\n",
       "      <td>4</td>\n",
       "    </tr>\n",
       "    <tr>\n",
       "      <th>2</th>\n",
       "      <td>11</td>\n",
       "      <td>Laboratory Technician</td>\n",
       "      <td>Research &amp; Development</td>\n",
       "      <td>2693</td>\n",
       "      <td>4</td>\n",
       "    </tr>\n",
       "    <tr>\n",
       "      <th>3</th>\n",
       "      <td>12</td>\n",
       "      <td>Manufacturing Director</td>\n",
       "      <td>Research &amp; Development</td>\n",
       "      <td>9526</td>\n",
       "      <td>4</td>\n",
       "    </tr>\n",
       "    <tr>\n",
       "      <th>4</th>\n",
       "      <td>27</td>\n",
       "      <td>Sales Representative</td>\n",
       "      <td>Sales</td>\n",
       "      <td>3407</td>\n",
       "      <td>4</td>\n",
       "    </tr>\n",
       "  </tbody>\n",
       "</table>\n",
       "</div>"
      ],
      "text/plain": [
       "   EmployeeNumber                 JobRole              Department  \\\n",
       "0               2      Research Scientist  Research & Development   \n",
       "1              10   Laboratory Technician  Research & Development   \n",
       "2              11   Laboratory Technician  Research & Development   \n",
       "3              12  Manufacturing Director  Research & Development   \n",
       "4              27    Sales Representative                   Sales   \n",
       "\n",
       "   MonthlyIncome  PerformanceRating  \n",
       "0           5130                  4  \n",
       "1           2670                  4  \n",
       "2           2693                  4  \n",
       "3           9526                  4  \n",
       "4           3407                  4  "
      ]
     },
     "metadata": {},
     "output_type": "display_data"
    }
   ],
   "source": [
    "q4 = pd.read_sql_query(\"SELECT employeeNumber,Jobrole,Department,MonthlyIncome, performanceRating from employees ORDER BY performanceRating DESC LIMIT 5 ;\",conn)\n",
    "q4"
   ]
  }
 ],
 "metadata": {
  "kernelspec": {
   "display_name": "AI",
   "language": "python",
   "name": "python3"
  },
  "language_info": {
   "codemirror_mode": {
    "name": "ipython",
    "version": 3
   },
   "file_extension": ".py",
   "mimetype": "text/x-python",
   "name": "python",
   "nbconvert_exporter": "python",
   "pygments_lexer": "ipython3",
   "version": "3.10.18"
  }
 },
 "nbformat": 4,
 "nbformat_minor": 5
}

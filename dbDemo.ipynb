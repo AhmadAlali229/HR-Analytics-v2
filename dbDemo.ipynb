{
 "cells": [
  {
   "cell_type": "markdown",
   "id": "2d11c6bd",
   "metadata": {},
   "source": [
    "# HR Analytics Project\n",
    "\n",
    "This project analyzes the HR Analytics Employee Attrition dataset.  \n",
    "We use both **SQL** and **Python (Pandas)** to answer key business questions,  \n",
    "then visualize insights for the HR department.\n"
   ]
  },
  {
   "cell_type": "code",
   "execution_count": null,
   "id": "c9b5bae8",
   "metadata": {},
   "outputs": [],
   "source": [
    "import sqlite3\n",
    "import pandas as pd\n",
    "#import Libaries"
   ]
  },
  {
   "cell_type": "code",
   "execution_count": null,
   "id": "485e632d",
   "metadata": {},
   "outputs": [],
   "source": [
    "df = pd.read_csv('WA_Fn-UseC_-HR-Employee-Attrition.csv') # Read the file"
   ]
  },
  {
   "cell_type": "code",
   "execution_count": null,
   "id": "d786d5d7",
   "metadata": {},
   "outputs": [],
   "source": [
    "conn = sqlite3.connect(\"employees.db\")\n",
    "df.to_sql(\"employees\", conn, if_exists=\"replace\", index=False) #storing data "
   ]
  },
  {
   "cell_type": "markdown",
   "id": "6a0cc561",
   "metadata": {},
   "source": [
    "# SQL Queries questions"
   ]
  },
  {
   "cell_type": "markdown",
   "id": "093d13e1",
   "metadata": {},
   "source": [
    "##### Q1: How many total employees are there?"
   ]
  },
  {
   "cell_type": "code",
   "execution_count": null,
   "id": "a6664c18",
   "metadata": {},
   "outputs": [
    {
     "data": {
      "text/html": [
       "<div>\n",
       "<style scoped>\n",
       "    .dataframe tbody tr th:only-of-type {\n",
       "        vertical-align: middle;\n",
       "    }\n",
       "\n",
       "    .dataframe tbody tr th {\n",
       "        vertical-align: top;\n",
       "    }\n",
       "\n",
       "    .dataframe thead th {\n",
       "        text-align: right;\n",
       "    }\n",
       "</style>\n",
       "<table border=\"1\" class=\"dataframe\">\n",
       "  <thead>\n",
       "    <tr style=\"text-align: right;\">\n",
       "      <th></th>\n",
       "      <th>COUNT (*)</th>\n",
       "    </tr>\n",
       "  </thead>\n",
       "  <tbody>\n",
       "    <tr>\n",
       "      <th>0</th>\n",
       "      <td>2729</td>\n",
       "    </tr>\n",
       "  </tbody>\n",
       "</table>\n",
       "</div>"
      ],
      "text/plain": [
       "   COUNT (*)\n",
       "0       2729"
      ]
     },
     "metadata": {},
     "output_type": "display_data"
    }
   ],
   "source": [
    "q1 = pd.read_sql_query(\"SELECT COUNT (*) FROM employees ;\",conn)\n",
    "q1"
   ]
  }
 ],
 "metadata": {
  "kernelspec": {
   "display_name": "AI",
   "language": "python",
   "name": "python3"
  },
  "language_info": {
   "codemirror_mode": {
    "name": "ipython",
    "version": 3
   },
   "file_extension": ".py",
   "mimetype": "text/x-python",
   "name": "python",
   "nbconvert_exporter": "python",
   "pygments_lexer": "ipython3",
   "version": "3.10.18"
  }
 },
 "nbformat": 4,
 "nbformat_minor": 5
}

{
 "cells": [
  {
   "cell_type": "markdown",
   "id": "2d11c6bd",
   "metadata": {},
   "source": [
    "# HR Analytics Project\n",
    "\n",
    "This project analyzes the HR Analytics Employee Attrition dataset.  \n",
    "We use both **SQL** and **Python (Pandas)** to answer key business questions,  \n",
    "then visualize insights for the HR department.\n"
   ]
  },
  {
   "cell_type": "code",
   "execution_count": null,
   "id": "c9b5bae8",
   "metadata": {},
   "outputs": [],
   "source": [
    "import sqlite3\n",
    "import pandas as pd\n",
    "#import Libaries"
   ]
  },
  {
   "cell_type": "code",
   "execution_count": null,
   "id": "485e632d",
   "metadata": {},
   "outputs": [],
   "source": [
    "df = pd.read_csv('WA_Fn-UseC_-HR-Employee-Attrition.csv') # Read the file"
   ]
  },
  {
   "cell_type": "code",
   "execution_count": null,
   "id": "d786d5d7",
   "metadata": {},
   "outputs": [],
   "source": [
    "conn = sqlite3.connect(\"employees.db\")\n",
    "df.to_sql(\"employees\", conn, if_exists=\"replace\", index=False) #storing data "
   ]
  },
  {
   "cell_type": "markdown",
   "id": "6a0cc561",
   "metadata": {},
   "source": [
    "# SQL Queries questions"
   ]
  },
  {
   "cell_type": "markdown",
   "id": "093d13e1",
   "metadata": {},
   "source": [
    "##### Q1: How many total employees are there?"
   ]
  },
  {
   "cell_type": "code",
   "execution_count": null,
   "id": "a6664c18",
   "metadata": {},
   "outputs": [
    {
     "data": {
      "text/html": [
       "<div>\n",
       "<style scoped>\n",
       "    .dataframe tbody tr th:only-of-type {\n",
       "        vertical-align: middle;\n",
       "    }\n",
       "\n",
       "    .dataframe tbody tr th {\n",
       "        vertical-align: top;\n",
       "    }\n",
       "\n",
       "    .dataframe thead th {\n",
       "        text-align: right;\n",
       "    }\n",
       "</style>\n",
       "<table border=\"1\" class=\"dataframe\">\n",
       "  <thead>\n",
       "    <tr style=\"text-align: right;\">\n",
       "      <th></th>\n",
       "      <th>COUNT (*)</th>\n",
       "    </tr>\n",
       "  </thead>\n",
       "  <tbody>\n",
       "    <tr>\n",
       "      <th>0</th>\n",
       "      <td>2729</td>\n",
       "    </tr>\n",
       "  </tbody>\n",
       "</table>\n",
       "</div>"
      ],
      "text/plain": [
       "   COUNT (*)\n",
       "0       2729"
      ]
     },
     "metadata": {},
     "output_type": "display_data"
    }
   ],
   "source": [
    "q1 = pd.read_sql_query(\"SELECT COUNT (*) FROM employees ;\",conn)\n",
    "q1"
   ]
  },
  {
   "cell_type": "markdown",
   "id": "46a65eb7",
   "metadata": {},
   "source": [
    "##### Q2: What is the employee count for each department?"
   ]
  },
  {
   "cell_type": "code",
   "execution_count": null,
   "id": "24818300",
   "metadata": {},
   "outputs": [
    {
     "data": {
      "text/html": [
       "<div>\n",
       "<style scoped>\n",
       "    .dataframe tbody tr th:only-of-type {\n",
       "        vertical-align: middle;\n",
       "    }\n",
       "\n",
       "    .dataframe tbody tr th {\n",
       "        vertical-align: top;\n",
       "    }\n",
       "\n",
       "    .dataframe thead th {\n",
       "        text-align: right;\n",
       "    }\n",
       "</style>\n",
       "<table border=\"1\" class=\"dataframe\">\n",
       "  <thead>\n",
       "    <tr style=\"text-align: right;\">\n",
       "      <th></th>\n",
       "      <th>Department</th>\n",
       "      <th>COUNT(Department)</th>\n",
       "    </tr>\n",
       "  </thead>\n",
       "  <tbody>\n",
       "    <tr>\n",
       "      <th>0</th>\n",
       "      <td>Human Resources</td>\n",
       "      <td>1055</td>\n",
       "    </tr>\n",
       "    <tr>\n",
       "      <th>1</th>\n",
       "      <td>Research &amp; Development</td>\n",
       "      <td>961</td>\n",
       "    </tr>\n",
       "    <tr>\n",
       "      <th>2</th>\n",
       "      <td>Sales</td>\n",
       "      <td>446</td>\n",
       "    </tr>\n",
       "  </tbody>\n",
       "</table>\n",
       "</div>"
      ],
      "text/plain": [
       "               Department  COUNT(Department)\n",
       "0         Human Resources               1055\n",
       "1  Research & Development                961\n",
       "2                   Sales                446"
      ]
     },
     "metadata": {},
     "output_type": "display_data"
    }
   ],
   "source": [
    "q2 = pd.read_sql_query(\"SELECT Department, COUNT(Department) FROM employees GROUP BY Department;\",conn)\n",
    "q2"
   ]
  },
  {
   "cell_type": "markdown",
   "id": "51333a9c",
   "metadata": {},
   "source": [
    "##### Q3: What is the average monthly income by job role?"
   ]
  },
  {
   "cell_type": "code",
   "execution_count": null,
   "id": "3e51c691",
   "metadata": {},
   "outputs": [
    {
     "data": {
      "text/html": [
       "<div>\n",
       "<style scoped>\n",
       "    .dataframe tbody tr th:only-of-type {\n",
       "        vertical-align: middle;\n",
       "    }\n",
       "\n",
       "    .dataframe tbody tr th {\n",
       "        vertical-align: top;\n",
       "    }\n",
       "\n",
       "    .dataframe thead th {\n",
       "        text-align: right;\n",
       "    }\n",
       "</style>\n",
       "<table border=\"1\" class=\"dataframe\">\n",
       "  <thead>\n",
       "    <tr style=\"text-align: right;\">\n",
       "      <th></th>\n",
       "      <th>round(AVG(MonthlyIncome),2)</th>\n",
       "      <th>JobRole</th>\n",
       "    </tr>\n",
       "  </thead>\n",
       "  <tbody>\n",
       "    <tr>\n",
       "      <th>0</th>\n",
       "      <td>7528.76</td>\n",
       "      <td>Healthcare Representative</td>\n",
       "    </tr>\n",
       "    <tr>\n",
       "      <th>1</th>\n",
       "      <td>4235.75</td>\n",
       "      <td>Human Resources</td>\n",
       "    </tr>\n",
       "    <tr>\n",
       "      <th>2</th>\n",
       "      <td>3237.17</td>\n",
       "      <td>Laboratory Technician</td>\n",
       "    </tr>\n",
       "    <tr>\n",
       "      <th>3</th>\n",
       "      <td>17181.68</td>\n",
       "      <td>Manager</td>\n",
       "    </tr>\n",
       "    <tr>\n",
       "      <th>4</th>\n",
       "      <td>7295.14</td>\n",
       "      <td>Manufacturing Director</td>\n",
       "    </tr>\n",
       "    <tr>\n",
       "      <th>5</th>\n",
       "      <td>16033.55</td>\n",
       "      <td>Research Director</td>\n",
       "    </tr>\n",
       "    <tr>\n",
       "      <th>6</th>\n",
       "      <td>3239.97</td>\n",
       "      <td>Research Scientist</td>\n",
       "    </tr>\n",
       "    <tr>\n",
       "      <th>7</th>\n",
       "      <td>6924.28</td>\n",
       "      <td>Sales Executive</td>\n",
       "    </tr>\n",
       "    <tr>\n",
       "      <th>8</th>\n",
       "      <td>2626.00</td>\n",
       "      <td>Sales Representative</td>\n",
       "    </tr>\n",
       "  </tbody>\n",
       "</table>\n",
       "</div>"
      ],
      "text/plain": [
       "   round(AVG(MonthlyIncome),2)                    JobRole\n",
       "0                      7528.76  Healthcare Representative\n",
       "1                      4235.75            Human Resources\n",
       "2                      3237.17      Laboratory Technician\n",
       "3                     17181.68                    Manager\n",
       "4                      7295.14     Manufacturing Director\n",
       "5                     16033.55          Research Director\n",
       "6                      3239.97         Research Scientist\n",
       "7                      6924.28            Sales Executive\n",
       "8                      2626.00       Sales Representative"
      ]
     },
     "metadata": {},
     "output_type": "display_data"
    }
   ],
   "source": [
    "q3 = pd.read_sql_query(\"SELECT round(AVG(MonthlyIncome),2), jobrole FROM employees GROUP BY Jobrole ;\",conn)\n",
    "q3"
   ]
  },
  {
   "cell_type": "markdown",
   "id": "ca071686",
   "metadata": {},
   "source": [
    "##### Q4: Who are the top 5 employees by performance rating?\n"
   ]
  },
  {
   "cell_type": "code",
   "execution_count": null,
   "id": "47eb8c7d",
   "metadata": {},
   "outputs": [
    {
     "data": {
      "text/html": [
       "<div>\n",
       "<style scoped>\n",
       "    .dataframe tbody tr th:only-of-type {\n",
       "        vertical-align: middle;\n",
       "    }\n",
       "\n",
       "    .dataframe tbody tr th {\n",
       "        vertical-align: top;\n",
       "    }\n",
       "\n",
       "    .dataframe thead th {\n",
       "        text-align: right;\n",
       "    }\n",
       "</style>\n",
       "<table border=\"1\" class=\"dataframe\">\n",
       "  <thead>\n",
       "    <tr style=\"text-align: right;\">\n",
       "      <th></th>\n",
       "      <th>EmployeeNumber</th>\n",
       "      <th>JobRole</th>\n",
       "      <th>Department</th>\n",
       "      <th>MonthlyIncome</th>\n",
       "      <th>PerformanceRating</th>\n",
       "    </tr>\n",
       "  </thead>\n",
       "  <tbody>\n",
       "    <tr>\n",
       "      <th>0</th>\n",
       "      <td>2</td>\n",
       "      <td>Research Scientist</td>\n",
       "      <td>Research &amp; Development</td>\n",
       "      <td>5130</td>\n",
       "      <td>4</td>\n",
       "    </tr>\n",
       "    <tr>\n",
       "      <th>1</th>\n",
       "      <td>10</td>\n",
       "      <td>Laboratory Technician</td>\n",
       "      <td>Research &amp; Development</td>\n",
       "      <td>2670</td>\n",
       "      <td>4</td>\n",
       "    </tr>\n",
       "    <tr>\n",
       "      <th>2</th>\n",
       "      <td>11</td>\n",
       "      <td>Laboratory Technician</td>\n",
       "      <td>Research &amp; Development</td>\n",
       "      <td>2693</td>\n",
       "      <td>4</td>\n",
       "    </tr>\n",
       "    <tr>\n",
       "      <th>3</th>\n",
       "      <td>12</td>\n",
       "      <td>Manufacturing Director</td>\n",
       "      <td>Research &amp; Development</td>\n",
       "      <td>9526</td>\n",
       "      <td>4</td>\n",
       "    </tr>\n",
       "    <tr>\n",
       "      <th>4</th>\n",
       "      <td>27</td>\n",
       "      <td>Sales Representative</td>\n",
       "      <td>Sales</td>\n",
       "      <td>3407</td>\n",
       "      <td>4</td>\n",
       "    </tr>\n",
       "  </tbody>\n",
       "</table>\n",
       "</div>"
      ],
      "text/plain": [
       "   EmployeeNumber                 JobRole              Department  \\\n",
       "0               2      Research Scientist  Research & Development   \n",
       "1              10   Laboratory Technician  Research & Development   \n",
       "2              11   Laboratory Technician  Research & Development   \n",
       "3              12  Manufacturing Director  Research & Development   \n",
       "4              27    Sales Representative                   Sales   \n",
       "\n",
       "   MonthlyIncome  PerformanceRating  \n",
       "0           5130                  4  \n",
       "1           2670                  4  \n",
       "2           2693                  4  \n",
       "3           9526                  4  \n",
       "4           3407                  4  "
      ]
     },
     "metadata": {},
     "output_type": "display_data"
    }
   ],
   "source": [
    "q4 = pd.read_sql_query(\"SELECT employeeNumber,Jobrole,Department,MonthlyIncome, performanceRating from employees ORDER BY performanceRating DESC LIMIT 5 ;\",conn)\n",
    "q4"
   ]
  },
  {
   "cell_type": "markdown",
   "id": "3cf16b5c",
   "metadata": {},
   "source": [
    "##### Q5: Which department has the highest average performance rating?"
   ]
  },
  {
   "cell_type": "code",
   "execution_count": null,
   "id": "a8ae0f45",
   "metadata": {},
   "outputs": [
    {
     "data": {
      "text/html": [
       "<div>\n",
       "<style scoped>\n",
       "    .dataframe tbody tr th:only-of-type {\n",
       "        vertical-align: middle;\n",
       "    }\n",
       "\n",
       "    .dataframe tbody tr th {\n",
       "        vertical-align: top;\n",
       "    }\n",
       "\n",
       "    .dataframe thead th {\n",
       "        text-align: right;\n",
       "    }\n",
       "</style>\n",
       "<table border=\"1\" class=\"dataframe\">\n",
       "  <thead>\n",
       "    <tr style=\"text-align: right;\">\n",
       "      <th></th>\n",
       "      <th>Department</th>\n",
       "      <th>round(AVG(PerformanceRating),2)</th>\n",
       "    </tr>\n",
       "  </thead>\n",
       "  <tbody>\n",
       "    <tr>\n",
       "      <th>0</th>\n",
       "      <td>Research &amp; Development</td>\n",
       "      <td>3.16</td>\n",
       "    </tr>\n",
       "  </tbody>\n",
       "</table>\n",
       "</div>"
      ],
      "text/plain": [
       "               Department  round(AVG(PerformanceRating),2)\n",
       "0  Research & Development                             3.16"
      ]
     },
     "metadata": {},
     "output_type": "display_data"
    }
   ],
   "source": [
    "q5 = pd.read_sql_query(\"SELECT Department , round(AVG(PerformanceRating),2) from employees Group by Department order by AVG(performanceRating) DESC LIMIT 1 ;\",conn)\n",
    "q5"
   ]
  },
  {
   "cell_type": "markdown",
   "id": "8bc570b0",
   "metadata": {},
   "source": [
    "#### Addtional Query in SQL"
   ]
  },
  {
   "cell_type": "markdown",
   "id": "9ae59ff0",
   "metadata": {},
   "source": [
    "##### Q6: What is the employee count by Gender in every Department?"
   ]
  },
  {
   "cell_type": "code",
   "execution_count": null,
   "id": "1fa72e37",
   "metadata": {},
   "outputs": [
    {
     "data": {
      "text/html": [
       "<div>\n",
       "<style scoped>\n",
       "    .dataframe tbody tr th:only-of-type {\n",
       "        vertical-align: middle;\n",
       "    }\n",
       "\n",
       "    .dataframe tbody tr th {\n",
       "        vertical-align: top;\n",
       "    }\n",
       "\n",
       "    .dataframe thead th {\n",
       "        text-align: right;\n",
       "    }\n",
       "</style>\n",
       "<table border=\"1\" class=\"dataframe\">\n",
       "  <thead>\n",
       "    <tr style=\"text-align: right;\">\n",
       "      <th></th>\n",
       "      <th>Department</th>\n",
       "      <th>Gender</th>\n",
       "      <th>Total</th>\n",
       "    </tr>\n",
       "  </thead>\n",
       "  <tbody>\n",
       "    <tr>\n",
       "      <th>0</th>\n",
       "      <td>Human Resources</td>\n",
       "      <td>Female</td>\n",
       "      <td>20</td>\n",
       "    </tr>\n",
       "    <tr>\n",
       "      <th>1</th>\n",
       "      <td>Human Resources</td>\n",
       "      <td>Male</td>\n",
       "      <td>43</td>\n",
       "    </tr>\n",
       "    <tr>\n",
       "      <th>2</th>\n",
       "      <td>Research &amp; Development</td>\n",
       "      <td>Female</td>\n",
       "      <td>379</td>\n",
       "    </tr>\n",
       "    <tr>\n",
       "      <th>3</th>\n",
       "      <td>Research &amp; Development</td>\n",
       "      <td>Male</td>\n",
       "      <td>582</td>\n",
       "    </tr>\n",
       "    <tr>\n",
       "      <th>4</th>\n",
       "      <td>Sales</td>\n",
       "      <td>Female</td>\n",
       "      <td>189</td>\n",
       "    </tr>\n",
       "    <tr>\n",
       "      <th>5</th>\n",
       "      <td>Sales</td>\n",
       "      <td>Male</td>\n",
       "      <td>257</td>\n",
       "    </tr>\n",
       "  </tbody>\n",
       "</table>\n",
       "</div>"
      ],
      "text/plain": [
       "               Department  Gender  Total\n",
       "0         Human Resources  Female     20\n",
       "1         Human Resources    Male     43\n",
       "2  Research & Development  Female    379\n",
       "3  Research & Development    Male    582\n",
       "4                   Sales  Female    189\n",
       "5                   Sales    Male    257"
      ]
     },
     "metadata": {},
     "output_type": "display_data"
    }
   ],
   "source": [
    "q6 = pd.read_sql_query(\"SELECT Department , Gender , COUNT(*) as Total from employees group by gender ,department order by department, gender;\",conn)\n",
    "q6"
   ]
  },
  {
   "cell_type": "markdown",
   "id": "a6d60d12",
   "metadata": {},
   "source": [
    "##### Q7: What is the average Job Satisfaction by Job Role?"
   ]
  },
  {
   "cell_type": "code",
   "execution_count": null,
   "id": "3772747f",
   "metadata": {},
   "outputs": [
    {
     "data": {
      "text/html": [
       "<div>\n",
       "<style scoped>\n",
       "    .dataframe tbody tr th:only-of-type {\n",
       "        vertical-align: middle;\n",
       "    }\n",
       "\n",
       "    .dataframe tbody tr th {\n",
       "        vertical-align: top;\n",
       "    }\n",
       "\n",
       "    .dataframe thead th {\n",
       "        text-align: right;\n",
       "    }\n",
       "</style>\n",
       "<table border=\"1\" class=\"dataframe\">\n",
       "  <thead>\n",
       "    <tr style=\"text-align: right;\">\n",
       "      <th></th>\n",
       "      <th>JobRole</th>\n",
       "      <th>avg_job_satisfaction</th>\n",
       "      <th>totalEmployees</th>\n",
       "    </tr>\n",
       "  </thead>\n",
       "  <tbody>\n",
       "    <tr>\n",
       "      <th>0</th>\n",
       "      <td>Human Resources</td>\n",
       "      <td>2.56</td>\n",
       "      <td>52</td>\n",
       "    </tr>\n",
       "    <tr>\n",
       "      <th>1</th>\n",
       "      <td>Manufacturing Director</td>\n",
       "      <td>2.68</td>\n",
       "      <td>145</td>\n",
       "    </tr>\n",
       "    <tr>\n",
       "      <th>2</th>\n",
       "      <td>Laboratory Technician</td>\n",
       "      <td>2.69</td>\n",
       "      <td>259</td>\n",
       "    </tr>\n",
       "    <tr>\n",
       "      <th>3</th>\n",
       "      <td>Research Director</td>\n",
       "      <td>2.70</td>\n",
       "      <td>80</td>\n",
       "    </tr>\n",
       "    <tr>\n",
       "      <th>4</th>\n",
       "      <td>Manager</td>\n",
       "      <td>2.71</td>\n",
       "      <td>102</td>\n",
       "    </tr>\n",
       "    <tr>\n",
       "      <th>5</th>\n",
       "      <td>Sales Representative</td>\n",
       "      <td>2.73</td>\n",
       "      <td>83</td>\n",
       "    </tr>\n",
       "    <tr>\n",
       "      <th>6</th>\n",
       "      <td>Sales Executive</td>\n",
       "      <td>2.75</td>\n",
       "      <td>326</td>\n",
       "    </tr>\n",
       "    <tr>\n",
       "      <th>7</th>\n",
       "      <td>Research Scientist</td>\n",
       "      <td>2.77</td>\n",
       "      <td>292</td>\n",
       "    </tr>\n",
       "    <tr>\n",
       "      <th>8</th>\n",
       "      <td>Healthcare Representative</td>\n",
       "      <td>2.79</td>\n",
       "      <td>131</td>\n",
       "    </tr>\n",
       "  </tbody>\n",
       "</table>\n",
       "</div>"
      ],
      "text/plain": [
       "                     JobRole  avg_job_satisfaction  totalEmployees\n",
       "0            Human Resources                  2.56              52\n",
       "1     Manufacturing Director                  2.68             145\n",
       "2      Laboratory Technician                  2.69             259\n",
       "3          Research Director                  2.70              80\n",
       "4                    Manager                  2.71             102\n",
       "5       Sales Representative                  2.73              83\n",
       "6            Sales Executive                  2.75             326\n",
       "7         Research Scientist                  2.77             292\n",
       "8  Healthcare Representative                  2.79             131"
      ]
     },
     "metadata": {},
     "output_type": "display_data"
    }
   ],
   "source": [
    "q7 = pd.read_sql_query(\"SELECT  JobRole, round( AVG(JobSatisfaction),2) AS avg_job_satisfaction,  COUNT(*) AS totalEmployees  FROM employees GROUP BY JobRole  ORDER BY avg_job_satisfaction ASC; \",conn)\n",
    "q7"
   ]
  },
  {
   "cell_type": "markdown",
   "id": "d4ba0ea1",
   "metadata": {},
   "source": [
    "##### Q8: What is the average Monthly Income by Job Level?"
   ]
  },
  {
   "cell_type": "code",
   "execution_count": null,
   "id": "2173e8fe",
   "metadata": {},
   "outputs": [
    {
     "data": {
      "text/html": [
       "<div>\n",
       "<style scoped>\n",
       "    .dataframe tbody tr th:only-of-type {\n",
       "        vertical-align: middle;\n",
       "    }\n",
       "\n",
       "    .dataframe tbody tr th {\n",
       "        vertical-align: top;\n",
       "    }\n",
       "\n",
       "    .dataframe thead th {\n",
       "        text-align: right;\n",
       "    }\n",
       "</style>\n",
       "<table border=\"1\" class=\"dataframe\">\n",
       "  <thead>\n",
       "    <tr style=\"text-align: right;\">\n",
       "      <th></th>\n",
       "      <th>JobLevel</th>\n",
       "      <th>round(avg(MonthlyIncome),2)</th>\n",
       "    </tr>\n",
       "  </thead>\n",
       "  <tbody>\n",
       "    <tr>\n",
       "      <th>0</th>\n",
       "      <td>5</td>\n",
       "      <td>19191.83</td>\n",
       "    </tr>\n",
       "    <tr>\n",
       "      <th>1</th>\n",
       "      <td>4</td>\n",
       "      <td>15503.78</td>\n",
       "    </tr>\n",
       "    <tr>\n",
       "      <th>2</th>\n",
       "      <td>3</td>\n",
       "      <td>9817.25</td>\n",
       "    </tr>\n",
       "    <tr>\n",
       "      <th>3</th>\n",
       "      <td>2</td>\n",
       "      <td>5502.28</td>\n",
       "    </tr>\n",
       "    <tr>\n",
       "      <th>4</th>\n",
       "      <td>1</td>\n",
       "      <td>2786.92</td>\n",
       "    </tr>\n",
       "  </tbody>\n",
       "</table>\n",
       "</div>"
      ],
      "text/plain": [
       "   JobLevel  round(avg(MonthlyIncome),2)\n",
       "0         5                     19191.83\n",
       "1         4                     15503.78\n",
       "2         3                      9817.25\n",
       "3         2                      5502.28\n",
       "4         1                      2786.92"
      ]
     },
     "metadata": {},
     "output_type": "display_data"
    }
   ],
   "source": [
    "q8 = pd.read_sql_query(\"SELECT Joblevel , round(avg(MonthlyIncome),2) from employees group by joblevel order by avg(MonthlyIncome) DESC ;\",conn)\n",
    "q8"
   ]
  },
  {
   "cell_type": "markdown",
   "id": "8a2b69e4",
   "metadata": {},
   "source": [
    "# Python Query Questions"
   ]
  },
  {
   "cell_type": "markdown",
   "id": "890b032b",
   "metadata": {},
   "source": [
    "##### Q1: How many total employees are there?"
   ]
  },
  {
   "cell_type": "code",
   "execution_count": null,
   "id": "e9e14cdc",
   "metadata": {},
   "outputs": [
    {
     "name": "stdout",
     "output_type": "stream",
     "text": [
      "Q1) Total employees: 1470\n"
     ]
    }
   ],
   "source": [
    "total_employees = len(df)\n",
    "print(\"Q1) Total employees:\", total_employees)\n"
   ]
  },
  {
   "cell_type": "markdown",
   "id": "bf02e3c4",
   "metadata": {},
   "source": [
    "##### Q2: What is the employee count for each department?"
   ]
  },
  {
   "cell_type": "code",
   "execution_count": null,
   "id": "eed38fa8",
   "metadata": {},
   "outputs": [
    {
     "name": "stdout",
     "output_type": "stream",
     "text": [
      "Q2) Employee count per department: Department\n",
      "Research & Development    961\n",
      "Sales                     446\n",
      "Human Resources            63\n",
      "Name: count, dtype: int64\n"
     ]
    }
   ],
   "source": [
    "dept_counts = df[\"Department\"].value_counts()\n",
    "print(\"Q2) Employee count per department:\", dept_counts)"
   ]
  },
  {
   "cell_type": "markdown",
   "id": "b4e87f8c",
   "metadata": {},
   "source": [
    "##### Q3: What is the average monthly income by job role?"
   ]
  },
  {
   "cell_type": "code",
   "execution_count": null,
   "id": "fe60384f",
   "metadata": {},
   "outputs": [
    {
     "name": "stdout",
     "output_type": "stream",
     "text": [
      "Q3) Average monthly income by job role: JobRole\n",
      "Healthcare Representative     7528.76\n",
      "Human Resources               4235.75\n",
      "Laboratory Technician         3237.17\n",
      "Manager                      17181.68\n",
      "Manufacturing Director        7295.14\n",
      "Research Director            16033.55\n",
      "Research Scientist            3239.97\n",
      "Sales Executive               6924.28\n",
      "Sales Representative          2626.00\n",
      "Name: MonthlyIncome, dtype: float64\n"
     ]
    }
   ],
   "source": [
    "avg_income_by_role = df.groupby(\"JobRole\")[\"MonthlyIncome\"].mean().round(2)\n",
    "print(\"Q3) Average monthly income by job role:\",avg_income_by_role)"
   ]
  }
 ],
 "metadata": {
  "kernelspec": {
   "display_name": "AI",
   "language": "python",
   "name": "python3"
  },
  "language_info": {
   "codemirror_mode": {
    "name": "ipython",
    "version": 3
   },
   "file_extension": ".py",
   "mimetype": "text/x-python",
   "name": "python",
   "nbconvert_exporter": "python",
   "pygments_lexer": "ipython3",
   "version": "3.10.18"
  }
 },
 "nbformat": 4,
 "nbformat_minor": 5
}

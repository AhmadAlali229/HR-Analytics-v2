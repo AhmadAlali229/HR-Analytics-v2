{
 "cells": [
  {
   "cell_type": "markdown",
   "id": "2d11c6bd",
   "metadata": {},
   "source": [
    "# HR Analytics Project\n",
    "\n",
    "This project analyzes the HR Analytics Employee Attrition dataset.  \n",
    "We use both **SQL** and **Python (Pandas)** to answer key business questions,  \n",
    "then visualize insights for the HR department.\n"
   ]
  },
  {
   "cell_type": "code",
   "execution_count": null,
   "id": "c9b5bae8",
   "metadata": {},
   "outputs": [],
   "source": [
    "import sqlite3\n",
    "import pandas as pd\n",
    "#import Libaries"
   ]
  },
  {
   "cell_type": "code",
   "execution_count": null,
   "id": "485e632d",
   "metadata": {},
   "outputs": [],
   "source": [
    "df = pd.read_csv('WA_Fn-UseC_-HR-Employee-Attrition.csv') # Read the file"
   ]
  },
  {
   "cell_type": "code",
   "execution_count": null,
   "id": "d786d5d7",
   "metadata": {},
   "outputs": [],
   "source": [
    "conn = sqlite3.connect(\"employees.db\")\n",
    "df.to_sql(\"employees\", conn, if_exists=\"replace\", index=False) #storing data "
   ]
  }
 ],
 "metadata": {
  "kernelspec": {
   "display_name": "AI",
   "language": "python",
   "name": "python3"
  },
  "language_info": {
   "codemirror_mode": {
    "name": "ipython",
    "version": 3
   },
   "file_extension": ".py",
   "mimetype": "text/x-python",
   "name": "python",
   "nbconvert_exporter": "python",
   "pygments_lexer": "ipython3",
   "version": "3.10.18"
  }
 },
 "nbformat": 4,
 "nbformat_minor": 5
}
